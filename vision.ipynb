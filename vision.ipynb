{
  "cells": [
    {
      "cell_type": "code",
      "execution_count": null,
      "metadata": {
        "colab": {
          "background_save": true,
          "base_uri": "https://localhost:8080/"
        },
        "id": "Nj1ZifbMy3FO",
        "outputId": "e5062f10-b1e7-44cc-de91-ab1a9897a2da"
      },
      "outputs": [
        {
          "name": "stdout",
          "output_type": "stream",
          "text": [
            "Looking in indexes: https://pypi.org/simple, https://us-python.pkg.dev/colab-wheels/public/simple/\n",
            "Requirement already satisfied: tensorflow-addons in /usr/local/lib/python3.7/dist-packages (0.17.1)\n",
            "Requirement already satisfied: packaging in /usr/local/lib/python3.7/dist-packages (from tensorflow-addons) (21.3)\n",
            "Requirement already satisfied: typeguard>=2.7 in /usr/local/lib/python3.7/dist-packages (from tensorflow-addons) (2.7.1)\n",
            "Requirement already satisfied: pyparsing!=3.0.5,>=2.0.2 in /usr/local/lib/python3.7/dist-packages (from packaging->tensorflow-addons) (3.0.9)\n"
          ]
        }
      ],
      "source": [
        "!pip install -U tensorflow-addons"
      ]
    },
    {
      "cell_type": "code",
      "execution_count": null,
      "metadata": {
        "colab": {
          "background_save": true
        },
        "id": "0chsWXxpy3Ho"
      },
      "outputs": [],
      "source": [
        "import numpy as np\n",
        "import tensorflow as tf\n",
        "from tensorflow import keras\n",
        "from tensorflow.keras import layers\n",
        "import tensorflow_addons as tfa\n",
        "import os  \n",
        "import matplotlib.pyplot as plt \n",
        "import cv2 \n",
        "import pickle as pickle \n",
        "from sklearn.model_selection import train_test_split\n",
        "from keras.preprocessing.image import ImageDataGenerator\n",
        "from tensorflow.python.ops.numpy_ops import np_config\n",
        "np_config.enable_numpy_behavior()\n",
        "\n"
      ]
    },
    {
      "cell_type": "code",
      "execution_count": null,
      "metadata": {
        "colab": {
          "background_save": true
        },
        "id": "7dVBTPlr1ccA",
        "outputId": "dfc825b5-c47d-4d82-a23e-4079d54fc66f"
      },
      "outputs": [
        {
          "name": "stdout",
          "output_type": "stream",
          "text": [
            "4308\n"
          ]
        }
      ],
      "source": [
        "data_dir = '/content/drive/MyDrive/flow'\n",
        "\n",
        "categories = ['daisy', 'dandelion' , 'rose', 'sunflower', 'tulip']\n",
        "\n",
        "data = []\n",
        "\n",
        "def make_data():\n",
        "    for category in categories:\n",
        "        path = os.path.join(data_dir, category)\n",
        "        label = categories.index(category)\n",
        "\n",
        "        for img_name in os.listdir(path):\n",
        "            image_path = os.path.join(path, img_name)\n",
        "            image = cv2.imread(image_path)\n",
        "\n",
        "\n",
        "            try:\n",
        "                image = cv2.cvtColor(image, cv2.COLOR_BGR2RGB)\n",
        "                image = cv2.resize(image, (32,32))\n",
        "                image = np.array(image)\n",
        "\n",
        "                data.append([image, label])\n",
        "\n",
        "            except Exception as e:\n",
        "                pass\n",
        "\n",
        "    print(len(data))\n",
        "    pik = open('flower.pickle','wb')\n",
        "    pickle.dump(data, pik)\n",
        "    pik.close()\n",
        "make_data()\n",
        "def load_data():\n",
        "    pick  = open('flower.pickle', 'rb')\n",
        "    data = pickle.load(pick)\n",
        "\n",
        "    pick.close()\n",
        "\n",
        "#np.random(data)\n",
        "\n",
        "    feature = []\n",
        "    labels = []\n",
        "\n",
        "    for img, label in data:\n",
        "        feature.append(img)\n",
        "        labels.append(label)\n",
        "\n",
        "    feature = np.array(feature, dtype = np.float32)\n",
        "    feature = feature/ 255.\n",
        "\n",
        "    labels = np.array(labels)\n",
        "\n",
        "    return [feature, labels]"
      ]
    },
    {
      "cell_type": "code",
      "execution_count": null,
      "metadata": {
        "colab": {
          "background_save": true
        },
        "id": "ptDAuNMZy3KB",
        "outputId": "27e10e40-35bf-4237-885c-cd480fd17e44"
      },
      "outputs": [
        {
          "name": "stdout",
          "output_type": "stream",
          "text": [
            "x_train shape: (3877, 32, 32, 3) - y_train shape: (3877,)\n",
            "x_test shape: (431, 32, 32, 3) - y_test shape: (431,)\n"
          ]
        }
      ],
      "source": [
        "feature,label = load_data()\n",
        "categories = ['daisy', 'dandelion' , 'rose', 'sunflower', 'tulip']\n",
        "num_classes = 5\n",
        "input_shape = (32, 32, 3)\n",
        "\n",
        "x_train, x_test, y_train, y_test = train_test_split(feature,label,test_size=0.1,shuffle=True)\n",
        "train_dataset=tf.data.Dataset.from_tensor_slices((x_train,y_train)) \n",
        "x_train, x_test = tf.cast(x_train, tf.float32), tf.cast(x_test, tf.float32)\n",
        "print(f\"x_train shape: {x_train.shape} - y_train shape: {y_train.shape}\")\n",
        "print(f\"x_test shape: {x_test.shape} - y_test shape: {y_test.shape}\")\n"
      ]
    },
    {
      "cell_type": "code",
      "execution_count": null,
      "metadata": {
        "colab": {
          "background_save": true
        },
        "id": "mNZl_MNpy3MT"
      },
      "outputs": [],
      "source": [
        "learning_rate = 0.0001\n",
        "weight_decay = 0.0001\n",
        "batch_size = 16\n",
        "num_epochs = 20\n",
        "image_size = 72  # We'll resize input images to this size\n",
        "patch_size = 6  # Size of the patches to be extract from the input images\n",
        "num_patches = (image_size // patch_size) ** 2\n",
        "projection_dim = 64\n",
        "num_heads = 4\n",
        "transformer_units = [\n",
        "    projection_dim * 2,\n",
        "    projection_dim,\n",
        "]  # Size of the transformer layers\n",
        "transformer_layers = 8\n",
        "mlp_head_units = [2048, 1024]  # Size of the dense layers of the final classifier"
      ]
    },
    {
      "cell_type": "code",
      "execution_count": null,
      "metadata": {
        "colab": {
          "background_save": true
        },
        "id": "N4ssixzqy3OW"
      },
      "outputs": [],
      "source": [
        "data_augmentation = keras.Sequential(\n",
        "    [\n",
        "        layers.Normalization(),\n",
        "        layers.Resizing(image_size, image_size),\n",
        "        layers.RandomFlip(\"horizontal\"),\n",
        "        layers.RandomRotation(factor=0.02),\n",
        "        layers.RandomZoom(\n",
        "            height_factor=0.2, width_factor=0.2\n",
        "        ),\n",
        "    ],\n",
        "    name=\"data_augmentation\",\n",
        ")\n",
        "# Compute the mean and the variance of the training data for normalization.\n",
        "data_augmentation.layers[0].adapt(x_train)"
      ]
    },
    {
      "cell_type": "code",
      "execution_count": null,
      "metadata": {
        "colab": {
          "background_save": true
        },
        "id": "25XF-7e3y3R3"
      },
      "outputs": [],
      "source": [
        "def mlp(x, hidden_units, dropout_rate):\n",
        "    for units in hidden_units:\n",
        "        x = layers.Dense(units, activation=tf.nn.gelu)(x)\n",
        "        x = layers.Dropout(dropout_rate)(x)\n",
        "    return x"
      ]
    },
    {
      "cell_type": "code",
      "execution_count": null,
      "metadata": {
        "colab": {
          "background_save": true
        },
        "id": "Hvk8OPHBzaH-"
      },
      "outputs": [],
      "source": [
        "class Patches(layers.Layer):\n",
        "    def __init__(self, patch_size):\n",
        "        super(Patches, self).__init__()\n",
        "        self.patch_size = patch_size\n",
        "\n",
        "    def call(self, images):\n",
        "        batch_size = tf.shape(images)[0]\n",
        "        patches = tf.image.extract_patches(\n",
        "            images=images,\n",
        "            sizes=[1, self.patch_size, self.patch_size, 1],\n",
        "            strides=[1, self.patch_size, self.patch_size, 1],\n",
        "            rates=[1, 1, 1, 1],\n",
        "            padding=\"VALID\",\n",
        "        )\n",
        "        patch_dims = patches.shape[-1]\n",
        "        patches = tf.reshape(patches, [batch_size, -1, patch_dims])\n",
        "        return patches"
      ]
    },
    {
      "cell_type": "code",
      "execution_count": null,
      "metadata": {
        "colab": {
          "background_save": true
        },
        "id": "n6Y0uCDrzaTb",
        "outputId": "f35d28ff-6091-45f8-87a7-6fbb3d5b3731"
      },
      "outputs": [
        {
          "name": "stdout",
          "output_type": "stream",
          "text": [
            "Image size: 72 X 72\n",
            "Patch size: 6 X 6\n",
            "Patches per image: 144\n",
            "Elements per patch: 108\n"
          ]
        },
        {
          "data": {
            "image/png": "[encoded data removed]",
            "text/plain": [
              "<Figure size 288x288 with 1 Axes>"
            ]
          },
          "metadata": {},
          "output_type": "display_data"
        },
        {
          "data": {
            "image/png": "[encoded data removed]",
            "text/plain": [
              "<Figure size 288x288 with 144 Axes>"
            ]
          },
          "metadata": {},
          "output_type": "display_data"
        }
      ],
      "source": [
        "\n",
        "plt.figure(figsize=(4, 4))\n",
        "image = x_train[np.random.choice(range(x_train.shape[0]))]\n",
        "plt.imshow(image.astype(\"uint8\"))\n",
        "plt.axis(\"off\")\n",
        "\n",
        "resized_image = tf.image.resize(\n",
        "    tf.convert_to_tensor([image]), size=(image_size, image_size)\n",
        ")\n",
        "patches = Patches(patch_size)(resized_image)\n",
        "print(f\"Image size: {image_size} X {image_size}\")\n",
        "print(f\"Patch size: {patch_size} X {patch_size}\")\n",
        "print(f\"Patches per image: {patches.shape[1]}\")\n",
        "print(f\"Elements per patch: {patches.shape[-1]}\")\n",
        "\n",
        "n = int(np.sqrt(patches.shape[1]))\n",
        "plt.figure(figsize=(4, 4))\n",
        "for i, patch in enumerate(patches[0]):\n",
        "    ax = plt.subplot(n, n, i + 1)\n",
        "    patch_img = tf.reshape(patch, (patch_size, patch_size, 3))\n",
        "    plt.imshow(patch_img.numpy().astype(\"uint8\"))\n",
        "    plt.axis(\"off\")"
      ]
    },
    {
      "cell_type": "code",
      "execution_count": null,
      "metadata": {
        "colab": {
          "background_save": true
        },
        "id": "f4ZMPkCZzaVp"
      },
      "outputs": [],
      "source": [
        "class PatchEncoder(layers.Layer):\n",
        "    def __init__(self, num_patches, projection_dim):\n",
        "        super(PatchEncoder, self).__init__()\n",
        "        self.num_patches = num_patches\n",
        "        self.projection = layers.Dense(units=projection_dim)\n",
        "        self.position_embedding = layers.Embedding(\n",
        "            input_dim=num_patches, output_dim=projection_dim\n",
        "        )\n",
        "\n",
        "    def call(self, patch):\n",
        "        positions = tf.range(start=0, limit=self.num_patches, delta=1)\n",
        "        encoded = self.projection(patch) + self.position_embedding(positions)\n",
        "        return encoded"
      ]
    },
    {
      "cell_type": "code",
      "execution_count": null,
      "metadata": {
        "id": "KN74iaLpzaYR"
      },
      "outputs": [],
      "source": [
        "def create_vit_classifier():\n",
        "    inputs = layers.Input(shape=input_shape)\n",
        "    # Augment data.\n",
        "    augmented = data_augmentation(inputs)\n",
        "    # Create patches.\n",
        "    patches = Patches(patch_size)(augmented)\n",
        "    # Encode patches.\n",
        "    encoded_patches = PatchEncoder(num_patches, projection_dim)(patches)\n",
        "\n",
        "    # Create multiple layers of the Transformer block.\n",
        "    for _ in range(transformer_layers):\n",
        "        # Layer normalization 1.\n",
        "        x1 = layers.LayerNormalization(epsilon=1e-6)(encoded_patches)\n",
        "        # Create a multi-head attention layer.\n",
        "        attention_output = layers.MultiHeadAttention(\n",
        "            num_heads=num_heads, key_dim=projection_dim, dropout=0.1\n",
        "        )(x1, x1)\n",
        "        # Skip connection 1.\n",
        "        x2 = layers.Add()([attention_output, encoded_patches])\n",
        "        # Layer normalization 2.\n",
        "        x3 = layers.LayerNormalization(epsilon=1e-6)(x2)\n",
        "        # MLP.\n",
        "        x3 = mlp(x3, hidden_units=transformer_units, dropout_rate=0.1)\n",
        "        # Skip connection 2.\n",
        "        encoded_patches = layers.Add()([x3, x2])\n",
        "\n",
        "    # Create a [batch_size, projection_dim] tensor.\n",
        "    representation = layers.LayerNormalization(epsilon=1e-6)(encoded_patches)\n",
        "    representation = layers.Flatten()(representation)\n",
        "    representation = layers.Dropout(0.5)(representation)\n",
        "    # Add MLP.\n",
        "    features = mlp(representation, hidden_units=mlp_head_units, dropout_rate=0.5)\n",
        "    # Classify outputs.\n",
        "    logits = layers.Dense(num_classes)(features)\n",
        "    # Create the Keras model.\n",
        "    model = keras.Model(inputs=inputs, outputs=logits)\n",
        "    return model\n"
      ]
    },
    {
      "cell_type": "code",
      "execution_count": null,
      "metadata": {
        "colab": {
          "background_save": true
        },
        "id": "WKIEWNXszaa3",
        "outputId": "036942b6-ae1b-4e7f-eecd-aacd44d0faa5"
      },
      "outputs": [
        {
          "name": "stdout",
          "output_type": "stream",
          "text": [
            "Epoch 1/20\n",
            "14/14 [==============================] - 266s 17s/step - loss: 3.9453 - accuracy: 0.3176 - top-5-accuracy: 1.0000 - val_loss: 1.3628 - val_accuracy: 0.3737 - val_top-5-accuracy: 1.0000\n",
            "Epoch 2/20\n",
            "14/14 [==============================] - 213s 15s/step - loss: 1.5299 - accuracy: 0.3826 - top-5-accuracy: 1.0000 - val_loss: 1.2872 - val_accuracy: 0.4742 - val_top-5-accuracy: 1.0000\n",
            "Epoch 3/20\n",
            "14/14 [==============================] - 215s 15s/step - loss: 1.3907 - accuracy: 0.4185 - top-5-accuracy: 1.0000 - val_loss: 1.3386 - val_accuracy: 0.4330 - val_top-5-accuracy: 1.0000\n",
            "Epoch 4/20\n",
            "14/14 [==============================] - 210s 15s/step - loss: 1.3097 - accuracy: 0.4443 - top-5-accuracy: 1.0000 - val_loss: 1.2338 - val_accuracy: 0.5052 - val_top-5-accuracy: 1.0000\n",
            "Epoch 5/20\n",
            "14/14 [==============================] - 208s 15s/step - loss: 1.2513 - accuracy: 0.4669 - top-5-accuracy: 1.0000 - val_loss: 1.1847 - val_accuracy: 0.5387 - val_top-5-accuracy: 1.0000\n",
            "Epoch 6/20\n",
            "14/14 [==============================] - 213s 15s/step - loss: 1.1649 - accuracy: 0.5156 - top-5-accuracy: 1.0000 - val_loss: 1.1327 - val_accuracy: 0.5954 - val_top-5-accuracy: 1.0000\n",
            "Epoch 7/20\n",
            "14/14 [==============================] - 211s 15s/step - loss: 1.1742 - accuracy: 0.5096 - top-5-accuracy: 1.0000 - val_loss: 1.1100 - val_accuracy: 0.6082 - val_top-5-accuracy: 1.0000\n",
            "Epoch 8/20\n",
            "14/14 [==============================] - 205s 15s/step - loss: 1.1018 - accuracy: 0.5403 - top-5-accuracy: 1.0000 - val_loss: 1.0429 - val_accuracy: 0.6082 - val_top-5-accuracy: 1.0000\n",
            "Epoch 9/20\n",
            "14/14 [==============================] - 214s 15s/step - loss: 1.0721 - accuracy: 0.5557 - top-5-accuracy: 1.0000 - val_loss: 0.9994 - val_accuracy: 0.6366 - val_top-5-accuracy: 1.0000\n",
            "Epoch 10/20\n",
            "14/14 [==============================] - 209s 15s/step - loss: 1.0283 - accuracy: 0.5927 - top-5-accuracy: 1.0000 - val_loss: 1.0118 - val_accuracy: 0.6263 - val_top-5-accuracy: 1.0000\n",
            "Epoch 11/20\n",
            "14/14 [==============================] - 207s 15s/step - loss: 0.9913 - accuracy: 0.6082 - top-5-accuracy: 1.0000 - val_loss: 0.9684 - val_accuracy: 0.6289 - val_top-5-accuracy: 1.0000\n",
            "Epoch 12/20\n",
            "14/14 [==============================] - 218s 16s/step - loss: 0.9685 - accuracy: 0.6202 - top-5-accuracy: 1.0000 - val_loss: 0.9004 - val_accuracy: 0.6546 - val_top-5-accuracy: 1.0000\n",
            "Epoch 13/20\n",
            "14/14 [==============================] - 210s 15s/step - loss: 0.9041 - accuracy: 0.6460 - top-5-accuracy: 1.0000 - val_loss: 0.8866 - val_accuracy: 0.6495 - val_top-5-accuracy: 1.0000\n",
            "Epoch 14/20\n",
            "14/14 [==============================] - 210s 15s/step - loss: 0.8882 - accuracy: 0.6569 - top-5-accuracy: 1.0000 - val_loss: 0.8806 - val_accuracy: 0.6881 - val_top-5-accuracy: 1.0000\n",
            "Epoch 15/20\n",
            "14/14 [==============================] - 215s 15s/step - loss: 0.8697 - accuracy: 0.6649 - top-5-accuracy: 1.0000 - val_loss: 0.8721 - val_accuracy: 0.6649 - val_top-5-accuracy: 1.0000\n",
            "Epoch 16/20\n",
            "14/14 [==============================] - 210s 15s/step - loss: 0.8214 - accuracy: 0.6801 - top-5-accuracy: 1.0000 - val_loss: 0.8573 - val_accuracy: 0.6959 - val_top-5-accuracy: 1.0000\n",
            "Epoch 17/20\n",
            "14/14 [==============================] - 209s 15s/step - loss: 0.8182 - accuracy: 0.6790 - top-5-accuracy: 1.0000 - val_loss: 0.8696 - val_accuracy: 0.6624 - val_top-5-accuracy: 1.0000\n",
            "Epoch 18/20\n",
            "14/14 [==============================] - 215s 15s/step - loss: 0.8124 - accuracy: 0.6893 - top-5-accuracy: 1.0000 - val_loss: 0.8386 - val_accuracy: 0.7062 - val_top-5-accuracy: 1.0000\n",
            "Epoch 19/20\n",
            "14/14 [==============================] - 208s 15s/step - loss: 0.7896 - accuracy: 0.6927 - top-5-accuracy: 1.0000 - val_loss: 0.8638 - val_accuracy: 0.6727 - val_top-5-accuracy: 1.0000\n",
            "Epoch 20/20\n",
            "14/14 [==============================] - 211s 15s/step - loss: 0.7572 - accuracy: 0.7019 - top-5-accuracy: 1.0000 - val_loss: 0.8653 - val_accuracy: 0.6701 - val_top-5-accuracy: 1.0000\n",
            "14/14 [==============================] - 12s 863ms/step - loss: 0.8067 - accuracy: 0.6821 - top-5-accuracy: 1.0000\n",
            "Test accuracy: 68.21%\n",
            "Test top 5 accuracy: 100.0%\n"
          ]
        }
      ],
      "source": [
        "def run_experiment(model):\n",
        "    optimizer = tfa.optimizers.AdamW(\n",
        "        learning_rate=learning_rate, weight_decay=weight_decay\n",
        "    )\n",
        "\n",
        "    model.compile(\n",
        "        optimizer=optimizer,\n",
        "        loss=keras.losses.SparseCategoricalCrossentropy(from_logits=True),\n",
        "        metrics=[\n",
        "            keras.metrics.SparseCategoricalAccuracy(name=\"accuracy\"),\n",
        "            keras.metrics.SparseTopKCategoricalAccuracy(5, name=\"top-5-accuracy\"),\n",
        "        ],\n",
        "    )\n",
        "\n",
        "    checkpoint_filepath = \"/tmp/checkpoint\"\n",
        "    checkpoint_callback = keras.callbacks.ModelCheckpoint(\n",
        "        checkpoint_filepath,\n",
        "        monitor=\"val_accuracy\",\n",
        "        save_best_only=True,\n",
        "        save_weights_only=True,\n",
        "    )\n",
        "\n",
        "    history = model.fit(\n",
        "        x=x_train,\n",
        "        y=y_train,\n",
        "        batch_size=batch_size,\n",
        "        epochs=num_epochs,\n",
        "        validation_split=0.1,\n",
        "        callbacks=[checkpoint_callback],\n",
        "    )\n",
        "\n",
        "    model.load_weights(checkpoint_filepath)\n",
        "    _, accuracy, top_5_accuracy = model.evaluate(x_test, y_test)\n",
        "    print(f\"Test accuracy: {round(accuracy * 100, 2)}%\")\n",
        "    print(f\"Test top 5 accuracy: {round(top_5_accuracy * 100, 2)}%\")\n",
        "\n",
        "    return history\n",
        "\n",
        "\n",
        "vit_classifier = create_vit_classifier()\n",
        "history = run_experiment(vit_classifier)"
      ]
    },
    {
      "cell_type": "code",
      "execution_count": null,
      "metadata": {
        "colab": {
          "base_uri": "https://localhost:8080/",
          "height": 235
        },
        "id": "sa664a3tLz1p",
        "outputId": "1c7d08f4-fd3f-4a34-b971-8ba080bb14a6"
      },
      "outputs": [
        {
          "output_type": "error",
          "ename": "NameError",
          "evalue": "ignored",
          "traceback": [
            "\u001b[0;31m---------------------------------------------------------------------------\u001b[0m",
            "\u001b[0;31mNameError\u001b[0m                                 Traceback (most recent call last)",
            "\u001b[0;32m<ipython-input-3-d6bfa18dc2e4>\u001b[0m in \u001b[0;36m<module>\u001b[0;34m()\u001b[0m\n\u001b[1;32m      6\u001b[0m \u001b[0mimg_array\u001b[0m \u001b[0;34m=\u001b[0m \u001b[0mtf\u001b[0m\u001b[0;34m.\u001b[0m\u001b[0mexpand_dims\u001b[0m\u001b[0;34m(\u001b[0m\u001b[0mimg_array\u001b[0m\u001b[0;34m,\u001b[0m \u001b[0;36m0\u001b[0m\u001b[0;34m)\u001b[0m\u001b[0;34m\u001b[0m\u001b[0;34m\u001b[0m\u001b[0m\n\u001b[1;32m      7\u001b[0m \u001b[0;34m\u001b[0m\u001b[0m\n\u001b[0;32m----> 8\u001b[0;31m \u001b[0mpredictions\u001b[0m \u001b[0;34m=\u001b[0m\u001b[0mvlt_classifier\u001b[0m\u001b[0;34m.\u001b[0m\u001b[0mpredict\u001b[0m\u001b[0;34m(\u001b[0m\u001b[0mimg_array\u001b[0m\u001b[0;34m)\u001b[0m\u001b[0;34m\u001b[0m\u001b[0;34m\u001b[0m\u001b[0m\n\u001b[0m\u001b[1;32m      9\u001b[0m \u001b[0mscore\u001b[0m \u001b[0;34m=\u001b[0m \u001b[0mtf\u001b[0m\u001b[0;34m.\u001b[0m\u001b[0mnn\u001b[0m\u001b[0;34m.\u001b[0m\u001b[0msoftmax\u001b[0m\u001b[0;34m(\u001b[0m\u001b[0mpredictions\u001b[0m\u001b[0;34m[\u001b[0m\u001b[0;36m0\u001b[0m\u001b[0;34m]\u001b[0m\u001b[0;34m)\u001b[0m\u001b[0;34m\u001b[0m\u001b[0;34m\u001b[0m\u001b[0m\n\u001b[1;32m     10\u001b[0m \u001b[0;34m\u001b[0m\u001b[0m\n",
            "\u001b[0;31mNameError\u001b[0m: name 'vlt_classifier' is not defined"
          ]
        }
      ],
      "source": [
        "from keras.preprocessing import image\n",
        "img = image.load_img('/content/drive/MyDrive/flow/daisy/10437754174_22ec990b77_m.jpg', target_size=(224,224,3))\n",
        "\n",
        "import tensorflow as tf\n",
        "img_array = tf.keras.utils.img_to_array(img)\n",
        "img_array = tf.expand_dims(img_array, 0)\n",
        "\n",
        "predictions =vlt_classifier.predict(img_array)\n",
        "score = tf.nn.softmax(predictions[0])\n",
        "\n",
        "print(\n",
        "    \"This image most likely belongs to {} with a {:.2f} percent confidence.\"\n",
        "    .format(categories[np.argmax(score)], 100 * np.max(score))\n",
        ")"
      ]
    }
  ],
  "metadata": {
    "accelerator": "GPU",
    "colab": {
      "name": "vision.ipynb",
      "provenance": []
    },
    "gpuClass": "standard",
    "kernelspec": {
      "display_name": "Python 3",
      "name": "python3"
    },
    "language_info": {
      "name": "python"
    }
  },
  "nbformat": 4,
  "nbformat_minor": 0
}